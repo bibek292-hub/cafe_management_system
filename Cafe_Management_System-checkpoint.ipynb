{
 "cells": [
  {
   "cell_type": "code",
   "execution_count": 3,
   "id": "7d8feeff-79cb-4589-b13d-1e167104eb7c",
   "metadata": {},
   "outputs": [
    {
     "name": "stdout",
     "output_type": "stream",
     "text": [
      "🍕☕ Welcome to Cafe PYTHON ☕🍕\n",
      "Here is our menu:\n",
      "Pizza: Rs420\n",
      "Pasta: Rs40\n",
      "Burger: Rs80\n",
      "Coffee: Rs140\n",
      "Roll: Rs200\n",
      "\n",
      "You can order as many items as you like.\n",
      "\n"
     ]
    },
    {
     "name": "stdin",
     "output_type": "stream",
     "text": [
      "Enter the name of the food you want to order:  Pizza\n",
      "How many Pizzas would you like?  2\n"
     ]
    },
    {
     "name": "stdout",
     "output_type": "stream",
     "text": [
      "2 Pizza(s) added to your order.\n"
     ]
    },
    {
     "name": "stdin",
     "output_type": "stream",
     "text": [
      "Would you like to order another item? (Yes/No):  yes\n",
      "Enter the name of the food you want to order:  Roll\n",
      "How many Rolls would you like?  3\n"
     ]
    },
    {
     "name": "stdout",
     "output_type": "stream",
     "text": [
      "3 Roll(s) added to your order.\n"
     ]
    },
    {
     "name": "stdin",
     "output_type": "stream",
     "text": [
      "Would you like to order another item? (Yes/No):  No\n"
     ]
    },
    {
     "name": "stdout",
     "output_type": "stream",
     "text": [
      "\n",
      "🧾 Order Summary:\n",
      "Pizza x 2 = Rs840\n",
      "Roll x 3 = Rs600\n",
      "\n",
      "🟩 Total Amount to Pay: Rs1440\n",
      "🙏 Thank you for ordering from Cafe PYTHON! Have a great day!\n"
     ]
    }
   ],
   "source": [
    "\n",
    "menu = {\n",
    "    'Pizza': 420,\n",
    "    'Pasta': 40,\n",
    "    'Burger': 80,\n",
    "    'Coffee': 140,\n",
    "    'Roll': 200\n",
    "}\n",
    "\n",
    "print(\"🍕☕ Welcome to Cafe PYTHON ☕🍕\")\n",
    "print(\"Here is our menu:\")\n",
    "for item, price in menu.items():\n",
    "    print(f\"{item}: Rs{price}\")\n",
    "\n",
    "print(\"\\nYou can order as many items as you like.\\n\")\n",
    "\n",
    "order = {}\n",
    "order_total = 0\n",
    "\n",
    "while True:\n",
    "    item_input = input(\"Enter the name of the food you want to order: \").strip().title()\n",
    "\n",
    "    if item_input in menu:\n",
    "        try:\n",
    "            quantity = int(input(f\"How many {item_input}s would you like? \"))\n",
    "            if quantity <= 0:\n",
    "                print(\"Please enter a valid quantity.\")\n",
    "                continue\n",
    "        except ValueError:\n",
    "            print(\"Please enter a number for quantity.\")\n",
    "            continue\n",
    "\n",
    "        if item_input in order:\n",
    "            order[item_input] += quantity\n",
    "        else:\n",
    "            order[item_input] = quantity\n",
    "\n",
    "        print(f\"{quantity} {item_input}(s) added to your order.\")\n",
    "    else:\n",
    "        print(f\"Sorry, we don't have {item_input} right now.\")\n",
    "\n",
    "    more = input(\"Would you like to order another item? (Yes/No): \").strip().lower()\n",
    "    if more != 'yes':\n",
    "        break\n",
    "\n",
    "print(\"\\n🧾 Order Summary:\")\n",
    "for item, qty in order.items():\n",
    "    item_total = menu[item] * qty\n",
    "    order_total += item_total\n",
    "    print(f\"{item} x {qty} = Rs{item_total}\")\n",
    "\n",
    "print(f\"\\n🟩 Total Amount to Pay: Rs{order_total}\")\n",
    "print(\"🙏 Thank you for ordering from Cafe PYTHON! Have a great day!\")\n"
   ]
  },
  {
   "cell_type": "code",
   "execution_count": null,
   "id": "5bb84702-6e7e-440d-a3a5-f99dd17f89b9",
   "metadata": {},
   "outputs": [],
   "source": []
  }
 ],
 "metadata": {
  "kernelspec": {
   "display_name": "Python 3 (ipykernel)",
   "language": "python",
   "name": "python3"
  },
  "language_info": {
   "codemirror_mode": {
    "name": "ipython",
    "version": 3
   },
   "file_extension": ".py",
   "mimetype": "text/x-python",
   "name": "python",
   "nbconvert_exporter": "python",
   "pygments_lexer": "ipython3",
   "version": "3.13.2"
  }
 },
 "nbformat": 4,
 "nbformat_minor": 5
}
